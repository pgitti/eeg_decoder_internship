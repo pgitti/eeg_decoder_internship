{
 "cells": [
  {
   "cell_type": "markdown",
   "id": "bf485f4a",
   "metadata": {},
   "source": [
    "# Model Evaluation Exploratory\n",
    "\n",
    "This notebook is meant to interactively evaluate the models."
   ]
  },
  {
   "cell_type": "code",
   "execution_count": 1,
   "id": "0f03bbe4",
   "metadata": {},
   "outputs": [],
   "source": [
    "import tensorflow \n",
    "import sys\n",
    "import numpy as np\n",
    "from pathlib import Path\n",
    "import matplotlib.pyplot as plt\n",
    "import ipywidgets as widgets\n",
    "from ipywidgets import interact\n",
    "import pickle\n",
    "\n",
    "from tensorflow.keras import backend as K\n",
    "from tensorflow.keras.models import load_model\n",
    "\n",
    "sys.path.append('../helpers')\n",
    "from helpers import evaluate_model, permutation_test"
   ]
  },
  {
   "cell_type": "code",
   "execution_count": 2,
   "id": "ca695d50",
   "metadata": {},
   "outputs": [
    {
     "name": "stdout",
     "output_type": "stream",
     "text": [
      "Keras: 2.14.0\n",
      "TensorFlow: 2.14.0\n"
     ]
    }
   ],
   "source": [
    "import keras\n",
    "print(\"Keras:\", keras.__version__)\n",
    "\n",
    "import tensorflow as tf\n",
    "print(\"TensorFlow:\", tf.__version__)\n"
   ]
  },
  {
   "cell_type": "code",
   "execution_count": 3,
   "id": "caadae51",
   "metadata": {},
   "outputs": [],
   "source": [
    "participants_info = [\n",
    "    {'Participant': '01', 'Session': '01', 'Task': 'RotationTask'},\n",
    "    {'Participant': '02', 'Session': '01', 'Task': 'RotationTask'},\n",
    "    {'Participant': '03', 'Session': '01', 'Task': 'RotationTask'}\n",
    "]\n",
    "all_fs = [128]\n",
    "h_freqs = [45, 100]\n",
    "icas = [False, True]\n",
    "config_types = ['long-window']\n",
    "targets = ['selection', 'decision']"
   ]
  },
  {
   "cell_type": "markdown",
   "id": "f3a26c11",
   "metadata": {},
   "source": [
    "## Evaluate"
   ]
  },
  {
   "cell_type": "code",
   "execution_count": null,
   "id": "fbf04695",
   "metadata": {},
   "outputs": [
    {
     "data": {
      "application/vnd.jupyter.widget-view+json": {
       "model_id": "0d4aeb3f85cb4ba19965507b7f62a643",
       "version_major": 2,
       "version_minor": 0
      },
      "text/plain": [
       "interactive(children=(Dropdown(description='Participant', options=('01', '02', '03'), value='01'), Dropdown(de…"
      ]
     },
     "metadata": {},
     "output_type": "display_data"
    },
    {
     "data": {
      "text/plain": [
       "<function __main__.<lambda>(participant, target, h_freq, ica, fs, config_type, metric)>"
      ]
     },
     "execution_count": 4,
     "metadata": {},
     "output_type": "execute_result"
    }
   ],
   "source": [
    "interact(\n",
    "    lambda participant, target, h_freq, ica, fs, config_type, metric: evaluate_model(\n",
    "        participants_info, participant, target, h_freq, ica, fs, config_type, metric\n",
    "    ),\n",
    "    participant=widgets.Dropdown(options=[p['Participant'] for p in participants_info], description=\"Participant\"),\n",
    "    target=widgets.Dropdown(options=targets, description=\"Target\"),\n",
    "    h_freq=widgets.Dropdown(options=h_freqs, description=\"High Freq\"),\n",
    "    ica=widgets.Dropdown(options=icas, description=\"ICA\"),\n",
    "    fs=widgets.Dropdown(options=all_fs, description=\"Sampling Rate\"),\n",
    "    config_type=widgets.Dropdown(options=config_types, description=\"Config\"),\n",
    "    metric=widgets.Dropdown(options=['balanced_accuracy', 'pr-auc'], description=\"Permutation Metrics\")\n",
    ")"
   ]
  }
 ],
 "metadata": {
  "kernelspec": {
   "display_name": "eeg_decoder",
   "language": "python",
   "name": "python3"
  },
  "language_info": {
   "codemirror_mode": {
    "name": "ipython",
    "version": 3
   },
   "file_extension": ".py",
   "mimetype": "text/x-python",
   "name": "python",
   "nbconvert_exporter": "python",
   "pygments_lexer": "ipython3",
   "version": "3.10.18"
  }
 },
 "nbformat": 4,
 "nbformat_minor": 5
}
