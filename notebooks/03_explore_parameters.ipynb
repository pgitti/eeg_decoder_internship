{
 "cells": [
  {
   "cell_type": "markdown",
   "id": "a57028dc",
   "metadata": {},
   "source": [
    "# Training Data Exploratory\n",
    "\n",
    "This script is used to interactively explore how to extract the training data. This entails choosing proper windows and correcting selection data (which triggers were pressed during experiment), i.e. parameters for ``extract_training_data``, ``correct_selections``, ``extract_window_times``. The helper functions are found in src/helpers.py.\n",
    "\n",
    "My personal take-aways are stored in this script and used for 06_get_training_data.py."
   ]
  },
  {
   "cell_type": "code",
   "execution_count": 1,
   "id": "ca9e9fc9",
   "metadata": {},
   "outputs": [
    {
     "name": "stderr",
     "output_type": "stream",
     "text": [
      "2025-09-15 16:42:39.502297: E tensorflow/compiler/xla/stream_executor/cuda/cuda_dnn.cc:9342] Unable to register cuDNN factory: Attempting to register factory for plugin cuDNN when one has already been registered\n",
      "2025-09-15 16:42:39.502324: E tensorflow/compiler/xla/stream_executor/cuda/cuda_fft.cc:609] Unable to register cuFFT factory: Attempting to register factory for plugin cuFFT when one has already been registered\n",
      "2025-09-15 16:42:39.502343: E tensorflow/compiler/xla/stream_executor/cuda/cuda_blas.cc:1518] Unable to register cuBLAS factory: Attempting to register factory for plugin cuBLAS when one has already been registered\n",
      "2025-09-15 16:42:39.507317: I tensorflow/core/platform/cpu_feature_guard.cc:182] This TensorFlow binary is optimized to use available CPU instructions in performance-critical operations.\n",
      "To enable the following instructions: AVX2 FMA, in other operations, rebuild TensorFlow with the appropriate compiler flags.\n"
     ]
    }
   ],
   "source": [
    "import sys\n",
    "import warnings\n",
    "import numpy as np\n",
    "import matplotlib.pyplot as plt\n",
    "from collections import defaultdict\n",
    "import ipywidgets as widgets\n",
    "\n",
    "# import costume functions\n",
    "sys.path.append('../helpers')\n",
    "from helpers import plot_windows, load_data, plot_selection_data, plot_trajectory, extract_training_data"
   ]
  },
  {
   "cell_type": "code",
   "execution_count": 2,
   "id": "0aeef191",
   "metadata": {},
   "outputs": [
    {
     "name": "stdout",
     "output_type": "stream",
     "text": [
      "Opening raw data file /home/pablo/eeg_decoder_project/data/sub-01/preprocessed/128hz_1-45_eeg_ica-False.fif...\n",
      "    Range : 0 ... 590712 =      0.000 ...  4614.938 secs\n",
      "Ready.\n",
      "Reading 0 ... 590712  =      0.000 ...  4614.938 secs...\n"
     ]
    },
    {
     "name": "stderr",
     "output_type": "stream",
     "text": [
      "/home/pablo/eeg_decoder_project/notebooks/../helpers/helpers.py:48: RuntimeWarning: This filename (/home/pablo/eeg_decoder_project/data/sub-01/preprocessed/128hz_1-45_eeg_ica-False.fif) does not conform to MNE naming conventions. All raw files should end with raw.fif, raw_sss.fif, raw_tsss.fif, _meg.fif, _eeg.fif, _ieeg.fif, raw.fif.gz, raw_sss.fif.gz, raw_tsss.fif.gz, _meg.fif.gz, _eeg.fif.gz or _ieeg.fif.gz\n",
      "  eeg = mne.io.read_raw_fif(pre_dir / f\"{fs}hz_1-{h_freq}_eeg_ica-{ica}.fif\", preload=True)\n"
     ]
    },
    {
     "name": "stdout",
     "output_type": "stream",
     "text": [
      "Opening raw data file /home/pablo/eeg_decoder_project/data/sub-02/preprocessed/128hz_1-45_eeg_ica-False.fif...\n",
      "    Range : 0 ... 593815 =      0.000 ...  4639.180 secs\n",
      "Ready.\n",
      "Reading 0 ... 593815  =      0.000 ...  4639.180 secs...\n"
     ]
    },
    {
     "name": "stderr",
     "output_type": "stream",
     "text": [
      "/home/pablo/eeg_decoder_project/notebooks/../helpers/helpers.py:48: RuntimeWarning: This filename (/home/pablo/eeg_decoder_project/data/sub-02/preprocessed/128hz_1-45_eeg_ica-False.fif) does not conform to MNE naming conventions. All raw files should end with raw.fif, raw_sss.fif, raw_tsss.fif, _meg.fif, _eeg.fif, _ieeg.fif, raw.fif.gz, raw_sss.fif.gz, raw_tsss.fif.gz, _meg.fif.gz, _eeg.fif.gz or _ieeg.fif.gz\n",
      "  eeg = mne.io.read_raw_fif(pre_dir / f\"{fs}hz_1-{h_freq}_eeg_ica-{ica}.fif\", preload=True)\n"
     ]
    },
    {
     "name": "stdout",
     "output_type": "stream",
     "text": [
      "Opening raw data file /home/pablo/eeg_decoder_project/data/sub-03/preprocessed/128hz_1-45_eeg_ica-False.fif...\n",
      "    Range : 0 ... 602965 =      0.000 ...  4710.664 secs\n",
      "Ready.\n",
      "Reading 0 ... 602965  =      0.000 ...  4710.664 secs...\n"
     ]
    },
    {
     "name": "stderr",
     "output_type": "stream",
     "text": [
      "/home/pablo/eeg_decoder_project/notebooks/../helpers/helpers.py:48: RuntimeWarning: This filename (/home/pablo/eeg_decoder_project/data/sub-03/preprocessed/128hz_1-45_eeg_ica-False.fif) does not conform to MNE naming conventions. All raw files should end with raw.fif, raw_sss.fif, raw_tsss.fif, _meg.fif, _eeg.fif, _ieeg.fif, raw.fif.gz, raw_sss.fif.gz, raw_tsss.fif.gz, _meg.fif.gz, _eeg.fif.gz or _ieeg.fif.gz\n",
      "  eeg = mne.io.read_raw_fif(pre_dir / f\"{fs}hz_1-{h_freq}_eeg_ica-{ica}.fif\", preload=True)\n"
     ]
    }
   ],
   "source": [
    "participants_info = [\n",
    "    {'Participant': '01', 'Session': '01', 'Task': 'RotationTask'},\n",
    "    {'Participant': '02', 'Session': '01', 'Task': 'RotationTask'},\n",
    "    {'Participant': '03', 'Session': '01', 'Task': 'RotationTask'}\n",
    "]\n",
    "\n",
    "all_fs = [128]\n",
    "h_freqs = [45, 100]\n",
    "\n",
    "fs = all_fs[0]\n",
    "h_freq = h_freqs[0]\n",
    "ica = False\n",
    "\n",
    "data = defaultdict(dict)\n",
    "for info in participants_info:\n",
    "    data[info['Participant']] = load_data(info, fs, h_freq, ica)"
   ]
  },
  {
   "cell_type": "markdown",
   "id": "c10d657f",
   "metadata": {},
   "source": [
    "## Explore selected keys that could be wrong"
   ]
  },
  {
   "cell_type": "code",
   "execution_count": 3,
   "id": "2ca5eceb",
   "metadata": {},
   "outputs": [
    {
     "data": {
      "application/vnd.jupyter.widget-view+json": {
       "model_id": "6e6e522a0fad4037aff4d2e23f8e5366",
       "version_major": 2,
       "version_minor": 0
      },
      "text/plain": [
       "interactive(children=(Dropdown(description='Participant:', options=('01', '02', '03'), style=DescriptionStyle(…"
      ]
     },
     "metadata": {},
     "output_type": "display_data"
    }
   ],
   "source": [
    "warnings.simplefilter(\"ignore\")\n",
    "\n",
    "# widgets\n",
    "id_options = list(data.keys())\n",
    "id_selector = widgets.Dropdown(\n",
    "    options=id_options,\n",
    "    description='Participant:',\n",
    "    style={'description_width': 'initial'}\n",
    ")\n",
    "\n",
    "trial_options = list(range(0, 150))\n",
    "trial_selector = widgets.Dropdown(\n",
    "    options=trial_options,\n",
    "    description='Trial:',\n",
    "    style={'description_width': 'initial'}\n",
    ")\n",
    "\n",
    "use_window_checkbox = widgets.Checkbox(\n",
    "    value=False,\n",
    "    description='Use Correction Window'\n",
    ")\n",
    "\n",
    "use_invalidate_checkbox = widgets.Checkbox(\n",
    "    value=False,\n",
    "    description='Omit Brief Checks (per trial)'\n",
    ")\n",
    "\n",
    "flag_checks_no_selection_false_checkbox = widgets.Checkbox(\n",
    "    value=False,\n",
    "    description='Flag No Selection But Checked False (Or Random)'\n",
    ")\n",
    "\n",
    "window_input = widgets.FloatText(\n",
    "    value=0.25,\n",
    "    description='Window (s):',\n",
    "    step=0.01\n",
    ")\n",
    "\n",
    "min_time_input = widgets.FloatText(\n",
    "    value=1.,\n",
    "    description='Window (s):',\n",
    "    step=0.5\n",
    ")\n",
    "\n",
    "widgets.interact(\n",
    "    lambda id, trial, use_window, selection_window, omit_brief_fixations_per_trial, min_fixation_per_trial_ms, flag_no_decisions_false: plot_selection_data(\n",
    "        data, id, trial, use_window, selection_window, omit_brief_fixations_per_trial, min_fixation_per_trial_ms, flag_no_decisions_false\n",
    "    ),\n",
    "    id=id_selector,\n",
    "    trial=trial_selector,\n",
    "    use_window=use_window_checkbox,\n",
    "    selection_window=window_input,\n",
    "    omit_brief_fixations_per_trial=use_invalidate_checkbox,\n",
    "    min_fixation_per_trial_ms=min_time_input,\n",
    "    flag_no_decisions_false=flag_checks_no_selection_false_checkbox\n",
    ")\n",
    "plt.close('all')  # close any existing figures"
   ]
  },
  {
   "cell_type": "code",
   "execution_count": 4,
   "id": "29028522",
   "metadata": {},
   "outputs": [
    {
     "data": {
      "application/vnd.jupyter.widget-view+json": {
       "model_id": "95d22371a6544087a07f687f8cf8b2a6",
       "version_major": 2,
       "version_minor": 0
      },
      "text/plain": [
       "interactive(children=(Dropdown(description='Participant:', options=('01', '02', '03'), style=DescriptionStyle(…"
      ]
     },
     "metadata": {},
     "output_type": "display_data"
    },
    {
     "data": {
      "text/plain": [
       "<function __main__.<lambda>(id, trial, time_range, step)>"
      ]
     },
     "execution_count": 4,
     "metadata": {},
     "output_type": "execute_result"
    }
   ],
   "source": [
    "# Time range slider (0.0 to 1.0 = 0% to 100% of trial duration)\n",
    "time_slider = widgets.FloatRangeSlider(\n",
    "    value=[0.0, 1.0],\n",
    "    min=0.0, max=1.0, step=0.01,\n",
    "    description='Time Range (normalized)',\n",
    "    continuous_update=False,\n",
    "    layout=widgets.Layout(width='60%'),\n",
    "    style={'description_width': 'initial'},\n",
    ")\n",
    "\n",
    "# Link widgets\n",
    "step_input = widgets.FloatText(\n",
    "    value=30,\n",
    "    description='Step:',\n",
    "    step=10\n",
    ")\n",
    "\n",
    "widgets.interact(\n",
    "    lambda id, trial, time_range, step: plot_trajectory(\n",
    "        data, id, trial, time_range, step\n",
    "    ),\n",
    "    id=id_selector,\n",
    "    trial=trial_selector,\n",
    "    time_range=time_slider,\n",
    "    step=step_input\n",
    ")"
   ]
  },
  {
   "cell_type": "markdown",
   "id": "813e22e4",
   "metadata": {},
   "source": [
    "### **Take-Away**\n",
    "\n",
    "* ``use_window`` does not seem to be important\n",
    "* ``selection_window`` of 250ms seems fine\n",
    "* ``omit_brief_fixations_per_trial`` + `min_fixations_per_trial_ms` changes a lot -> literature for what threshold\n",
    "* whether flagging no decisions random or always incorrect is debatable"
   ]
  },
  {
   "cell_type": "markdown",
   "id": "00d6b3a4",
   "metadata": {},
   "source": [
    "## Synchronize EEG and eyetracker"
   ]
  },
  {
   "cell_type": "code",
   "execution_count": 5,
   "id": "7a5c0ed8",
   "metadata": {},
   "outputs": [],
   "source": [
    "id  = list(data.keys())[0]\n",
    "mouse_log = data[id]['mouse_log'].copy()\n",
    "onsets = data[id]['onsets'].copy()\n",
    "triggers = data[id]['triggers'].copy()\n",
    "\n",
    "starts_mne_onset = onsets[triggers == 'start']\n",
    "starts_eyetrack = mouse_log[mouse_log['event'] == \"START\"]['timestamp']\n",
    "start_diffs = starts_eyetrack - starts_mne_onset\n",
    "\n",
    "which_diff = np.cumsum(mouse_log['event'] == 'START').values - 1\n",
    "start_idx = np.where(which_diff == 0)[0][0]\n",
    "which_diff = which_diff[which_diff != -1]\n",
    "\n",
    "t_eyetracker = mouse_log['timestamp'].values[start_idx:]\n",
    "diffs = start_diffs.values[which_diff]\n",
    "\n",
    "mouse_log_synced = mouse_log[start_idx:].copy()\n",
    "mouse_log_synced['mne_time_sync_each_start'] = t_eyetracker - diffs\n",
    "mouse_log_synced['mne_time_sync_start'] = t_eyetracker - diffs[0]"
   ]
  },
  {
   "cell_type": "code",
   "execution_count": 6,
   "id": "a1833df7",
   "metadata": {},
   "outputs": [
    {
     "data": {
      "image/png": "[encoded data removed]",
      "text/plain": [
       "<Figure size 1000x400 with 1 Axes>"
      ]
     },
     "metadata": {},
     "output_type": "display_data"
    }
   ],
   "source": [
    "ends_mne_onset = onsets[triggers == 'end']\n",
    "ends_eyetrack_sync_each_start = mouse_log_synced[mouse_log_synced['event'] == \"END\"]['mne_time_sync_each_start']\n",
    "ends_eyetrack_sync_start = mouse_log_synced[mouse_log_synced['event'] == \"END\"]['mne_time_sync_start']\n",
    "\n",
    "# lags\n",
    "end_diffs_sync_each_start = ends_eyetrack_sync_each_start - ends_mne_onset\n",
    "end_diffs_sync_start = ends_eyetrack_sync_start - ends_mne_onset\n",
    "\n",
    "plt.figure(figsize=(10, 4))\n",
    "plt.title('Time difference of end trigger')\n",
    "plt.plot(end_diffs_sync_each_start.reset_index()['mne_time_sync_each_start'], label=\"sync at each start\", color='blue')\n",
    "plt.plot(end_diffs_sync_start.reset_index()['mne_time_sync_start'], label=\"sync at first start\", color='red')\n",
    "plt.xlabel(\"Trial\")\n",
    "plt.ylabel(\"Drift (seconds)\")\n",
    "plt.legend()\n",
    "plt.grid(True)\n",
    "plt.show()"
   ]
  },
  {
   "cell_type": "markdown",
   "id": "5e52a1b5",
   "metadata": {},
   "source": [
    "### **Take-Away**\n",
    "\n",
    "Start trigger time difference between eeg and eyetracker drift apart -> synchronize at each start of trial (blue)"
   ]
  },
  {
   "cell_type": "markdown",
   "id": "ad33ec43",
   "metadata": {},
   "source": [
    "## Extract training data\n",
    "\n",
    "250ms window - 50ms shift - at start of fixation - min_duration?"
   ]
  },
  {
   "cell_type": "code",
   "execution_count": 7,
   "id": "9d33688a",
   "metadata": {},
   "outputs": [
    {
     "data": {
      "text/plain": [
       "'02'"
      ]
     },
     "execution_count": 7,
     "metadata": {},
     "output_type": "execute_result"
    }
   ],
   "source": [
    "id = list(data.keys())[1]\n",
    "id"
   ]
  },
  {
   "cell_type": "code",
   "execution_count": 22,
   "id": "50238a31",
   "metadata": {},
   "outputs": [],
   "source": [
    "training_data, data_info = extract_training_data(\n",
    "    data[id],\n",
    "    target='decision',\n",
    "    window_ms=500,\n",
    "    step_ms=50,\n",
    "    use_window=False,\n",
    "    selection_window_ms=250,\n",
    "    omit_brief_fixations_per_trial=False,\n",
    "    min_fixation_per_trial_ms=2000,\n",
    "    flag_no_decisions_false=False,\n",
    "    min_fixation_ms=50\n",
    ")\n"
   ]
  },
  {
   "cell_type": "code",
   "execution_count": 13,
   "id": "9471548f",
   "metadata": {},
   "outputs": [
    {
     "name": "stdout",
     "output_type": "stream",
     "text": [
      "X size (GB): 0.798223104\n",
      "y size (MB): 0.197972\n"
     ]
    }
   ],
   "source": [
    "training_data[0].shape\n",
    "print(\"X size (GB):\", training_data[0].nbytes / 1e9)\n",
    "print(\"y size (MB):\", training_data[1].nbytes / 1e6)"
   ]
  },
  {
   "cell_type": "code",
   "execution_count": 9,
   "id": "bc23fc83",
   "metadata": {},
   "outputs": [
    {
     "data": {
      "application/vnd.jupyter.widget-view+json": {
       "model_id": "33a238f885b84677855e0d9162a6c4e1",
       "version_major": 2,
       "version_minor": 0
      },
      "text/plain": [
       "interactive(children=(Dropdown(description='Participant:', options=('03',), style=DescriptionStyle(description…"
      ]
     },
     "metadata": {},
     "output_type": "display_data"
    },
    {
     "data": {
      "text/plain": [
       "<function __main__.<lambda>(id, trial, window_ms, step_ms, min_fixation_ms)>"
      ]
     },
     "execution_count": 9,
     "metadata": {},
     "output_type": "execute_result"
    }
   ],
   "source": [
    "window_ms_input = widgets.FloatText(\n",
    "    value=250,\n",
    "    description='Window size (ms):',\n",
    "    step=50\n",
    ")\n",
    "\n",
    "step_ms_input = widgets.FloatText(\n",
    "    value=50,\n",
    "    description='Offset (ms):',\n",
    "    step=10\n",
    ")\n",
    "\n",
    "min_fixation_ms_input = widgets.FloatText(\n",
    "    value=100,\n",
    "    description='Min fixation time (ms):',\n",
    "    step=10\n",
    ")\n",
    "\n",
    "widgets.interact(\n",
    "    lambda id, trial, window_ms, step_ms, min_fixation_ms: plot_windows(\n",
    "        data, id, trial, window_ms, step_ms, min_fixation_ms\n",
    "    ),\n",
    "    id=id_selector,\n",
    "    trial=trial_selector,\n",
    "    window_ms=window_ms_input,\n",
    "    step_ms=step_ms_input,\n",
    "    min_fixation_ms=min_fixation_ms_input\n",
    " )"
   ]
  },
  {
   "cell_type": "markdown",
   "id": "a7879be3",
   "metadata": {},
   "source": [
    "### **Take-Away**\n",
    "\n",
    "* Training data is quite big, how to save and load efficiently?\n",
    "* Min fixations dont change a lot: at 100ms 2.5% is excluded"
   ]
  },
  {
   "cell_type": "markdown",
   "id": "5259b56b",
   "metadata": {},
   "source": [
    "## Final Take-Away\n",
    "\n",
    "* ``correct_selections``\n",
    "    * use_window: \n",
    "        * Explanation: Corrects triggers that were pressed at end of trial\n",
    "        * Suggestion: **True**\n",
    "        * Importance: **Does not change much**\n",
    "    * selection_window_ms: \n",
    "        * Explanation: Threshold for ``use_window``\n",
    "        * Suggestion: **250ms** \n",
    "        * Importance: **Does not change much**\n",
    "    * omit_brief_fixations_per_trial:\n",
    "        * Explanation: Omit triggers, that were fixated briefly over the whole trial?\n",
    "        * Suggestion: **True**\n",
    "        * Importance: **Very, changes a lot**\n",
    "    * min_fixation_per_trial_ms:\n",
    "        * Explanation: Threshold for ``omit_brief_fixations_per_trial``, a proxy for looked at, but not thought about (literature?)\n",
    "        * Suggestion: **1000ms**?\n",
    "        * Importance: **Very, changes a lot**\n",
    "    * flag_checks_no_selection_false:\n",
    "        * Explanation: Flag as incorrect when ``omit_brief_fixations_per_trial``\n",
    "        * Suggestion: **True**\n",
    "        * Importance: **Very, changes a lot**\n",
    "\n",
    "* ``extract_window_times``\n",
    "    * window_s: \n",
    "        * Explanation: How long should each window be, proxy for processing time?\n",
    "        * Suggestion: **250ms?**\n",
    "        * Importance: **?**\n",
    "    * step_s: \n",
    "        * Explanation: Offset for ``window_s``, why overlapping?\n",
    "        * Suggestion: **50ms?** \n",
    "        * Importance: **?**\n",
    "    * min_fixation_s: \n",
    "        * Explanation: How long does a fixation need to be? Proxy for processing\n",
    "        * Suggestion: **100ms** \n",
    "        * Importance: **Does not change much**\n",
    "\n",
    "**Final preprocessing decisions can be specified in 04_get_training_data.py.**"
   ]
  }
 ],
 "metadata": {
  "kernelspec": {
   "display_name": "eeg_decoder",
   "language": "python",
   "name": "python3"
  },
  "language_info": {
   "codemirror_mode": {
    "name": "ipython",
    "version": 3
   },
   "file_extension": ".py",
   "mimetype": "text/x-python",
   "name": "python",
   "nbconvert_exporter": "python",
   "pygments_lexer": "ipython3",
   "version": "3.10.18"
  }
 },
 "nbformat": 4,
 "nbformat_minor": 5
}
